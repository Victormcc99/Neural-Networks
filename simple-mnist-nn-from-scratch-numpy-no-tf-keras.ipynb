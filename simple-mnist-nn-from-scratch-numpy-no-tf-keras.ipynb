{
 "cells": [
  {
   "cell_type": "markdown",
   "metadata": {},
   "source": [
    "# Simple MNIST NN from scratch\n",
    "\n",
    "In this notebook, I implemented a simple two-layer neural network and trained it on the MNIST digit recognizer dataset. It's meant to be an instructional example, through which you can understand the underlying math of neural networks better.\n",
    "\n",
    "Here's a video I made explaining all the math and showing my progress as I coded the network: https://youtu.be/w8yWXqWQYmU"
   ]
  },
  {
   "cell_type": "code",
   "execution_count": 6,
   "metadata": {
    "_cell_guid": "b1076dfc-b9ad-4769-8c92-a6c4dae69d19",
    "_uuid": "8f2839f25d086af736a60e9eeb907d3b93b6e0e5"
   },
   "outputs": [],
   "source": [
    "import numpy as np\n",
    "import pandas as pd\n",
    "from matplotlib import pyplot as plt\n",
    "\n",
    "data = pd.read_csv('/Users/Victor Manuel/Documents/Python Scripts/Neural network/train.csv')"
   ]
  },
  {
   "cell_type": "code",
   "execution_count": 7,
   "metadata": {},
   "outputs": [],
   "source": [
    "data = np.array(data)\n",
    "m, n = data.shape\n",
    "np.random.shuffle(data) # shuffle before splitting into dev and training sets\n",
    "\n",
    "data_dev = data[0:1000].T\n",
    "Y_dev = data_dev[0]\n",
    "X_dev = data_dev[1:n]\n",
    "X_dev = X_dev / 255.\n",
    "\n",
    "data_train = data[1000:m].T\n",
    "Y_train = data_train[0]\n",
    "X_train = data_train[1:n]\n",
    "X_train = X_train / 255.\n",
    "_,m_train = X_train.shape"
   ]
  },
  {
   "cell_type": "code",
   "execution_count": 8,
   "metadata": {},
   "outputs": [
    {
     "data": {
      "text/plain": [
       "array([5, 3, 5, ..., 2, 1, 7], dtype=int64)"
      ]
     },
     "execution_count": 8,
     "metadata": {},
     "output_type": "execute_result"
    }
   ],
   "source": [
    "Y_train"
   ]
  },
  {
   "cell_type": "markdown",
   "metadata": {},
   "source": [
    "Our NN will have a simple two-layer architecture. Input layer $a^{[0]}$ will have 784 units corresponding to the 784 pixels in each 28x28 input image. A hidden layer $a^{[1]}$ will have 10 units with ReLU activation, and finally our output layer $a^{[2]}$ will have 10 units corresponding to the ten digit classes with softmax activation.\n",
    "\n",
    "**Forward propagation**\n",
    "\n",
    "$$Z^{[1]} = W^{[1]} X + b^{[1]}$$\n",
    "$$A^{[1]} = g_{\\text{ReLU}}(Z^{[1]}))$$\n",
    "$$Z^{[2]} = W^{[2]} A^{[1]} + b^{[2]}$$\n",
    "$$A^{[2]} = g_{\\text{softmax}}(Z^{[2]})$$\n",
    "\n",
    "**Backward propagation**\n",
    "\n",
    "$$dZ^{[2]} = A^{[2]} - Y$$\n",
    "$$dW^{[2]} = \\frac{1}{m} dZ^{[2]} A^{[1]T}$$\n",
    "$$dB^{[2]} = \\frac{1}{m} \\Sigma {dZ^{[2]}}$$\n",
    "$$dZ^{[1]} = W^{[2]T} dZ^{[2]} .* g^{[1]\\prime} (z^{[1]})$$\n",
    "$$dW^{[1]} = \\frac{1}{m} dZ^{[1]} A^{[0]T}$$\n",
    "$$dB^{[1]} = \\frac{1}{m} \\Sigma {dZ^{[1]}}$$\n",
    "\n",
    "**Parameter updates**\n",
    "\n",
    "$$W^{[2]} := W^{[2]} - \\alpha dW^{[2]}$$\n",
    "$$b^{[2]} := b^{[2]} - \\alpha db^{[2]}$$\n",
    "$$W^{[1]} := W^{[1]} - \\alpha dW^{[1]}$$\n",
    "$$b^{[1]} := b^{[1]} - \\alpha db^{[1]}$$\n",
    "\n",
    "**Vars and shapes**\n",
    "\n",
    "Forward prop\n",
    "\n",
    "- $A^{[0]} = X$: 784 x m\n",
    "- $Z^{[1]} \\sim A^{[1]}$: 10 x m\n",
    "- $W^{[1]}$: 10 x 784 (as $W^{[1]} A^{[0]} \\sim Z^{[1]}$)\n",
    "- $B^{[1]}$: 10 x 1\n",
    "- $Z^{[2]} \\sim A^{[2]}$: 10 x m\n",
    "- $W^{[1]}$: 10 x 10 (as $W^{[2]} A^{[1]} \\sim Z^{[2]}$)\n",
    "- $B^{[2]}$: 10 x 1\n",
    "\n",
    "Backprop\n",
    "\n",
    "- $dZ^{[2]}$: 10 x m ($~A^{[2]}$)\n",
    "- $dW^{[2]}$: 10 x 10\n",
    "- $dB^{[2]}$: 10 x 1\n",
    "- $dZ^{[1]}$: 10 x m ($~A^{[1]}$)\n",
    "- $dW^{[1]}$: 10 x 10\n",
    "- $dB^{[1]}$: 10 x 1"
   ]
  },
  {
   "cell_type": "code",
   "execution_count": 9,
   "metadata": {},
   "outputs": [],
   "source": [
    "def init_params():\n",
    "    W1 = np.random.rand(10, 784) - 0.5\n",
    "    b1 = np.random.rand(10, 1) - 0.5\n",
    "    W2 = np.random.rand(10, 10) - 0.5\n",
    "    b2 = np.random.rand(10, 1) - 0.5\n",
    "    return W1, b1, W2, b2\n",
    "\n",
    "def ReLU(Z):\n",
    "    return np.maximum(Z, 0)\n",
    "\n",
    "def softmax(Z):\n",
    "    A = np.exp(Z) / sum(np.exp(Z))\n",
    "    return A\n",
    "    \n",
    "def forward_prop(W1, b1, W2, b2, X):\n",
    "    Z1 = W1.dot(X) + b1\n",
    "    A1 = ReLU(Z1)\n",
    "    Z2 = W2.dot(A1) + b2\n",
    "    A2 = softmax(Z2)\n",
    "    return Z1, A1, Z2, A2\n",
    "\n",
    "def ReLU_deriv(Z):\n",
    "    return Z > 0\n",
    "\n",
    "def one_hot(Y):\n",
    "    one_hot_Y = np.zeros((Y.size, Y.max() + 1))\n",
    "    one_hot_Y[np.arange(Y.size), Y] = 1\n",
    "    one_hot_Y = one_hot_Y.T\n",
    "    return one_hot_Y\n",
    "\n",
    "def backward_prop(Z1, A1, Z2, A2, W1, W2, X, Y):\n",
    "    one_hot_Y = one_hot(Y)\n",
    "    dZ2 = A2 - one_hot_Y\n",
    "    dW2 = 1 / m * dZ2.dot(A1.T)\n",
    "    db2 = 1 / m * np.sum(dZ2)\n",
    "    dZ1 = W2.T.dot(dZ2) * ReLU_deriv(Z1)\n",
    "    dW1 = 1 / m * dZ1.dot(X.T)\n",
    "    db1 = 1 / m * np.sum(dZ1)\n",
    "    return dW1, db1, dW2, db2\n",
    "\n",
    "def update_params(W1, b1, W2, b2, dW1, db1, dW2, db2, alpha):\n",
    "    W1 = W1 - alpha * dW1\n",
    "    b1 = b1 - alpha * db1    \n",
    "    W2 = W2 - alpha * dW2  \n",
    "    b2 = b2 - alpha * db2    \n",
    "    return W1, b1, W2, b2"
   ]
  },
  {
   "cell_type": "code",
   "execution_count": 10,
   "metadata": {},
   "outputs": [],
   "source": [
    "def get_predictions(A2):\n",
    "    return np.argmax(A2, 0)\n",
    "\n",
    "def get_accuracy(predictions, Y):\n",
    "    print(predictions, Y)\n",
    "    return np.sum(predictions == Y) / Y.size\n",
    "\n",
    "def gradient_descent(X, Y, alpha, iterations):\n",
    "    W1, b1, W2, b2 = init_params()\n",
    "    for i in range(iterations):\n",
    "        Z1, A1, Z2, A2 = forward_prop(W1, b1, W2, b2, X)\n",
    "        dW1, db1, dW2, db2 = backward_prop(Z1, A1, Z2, A2, W1, W2, X, Y)\n",
    "        W1, b1, W2, b2 = update_params(W1, b1, W2, b2, dW1, db1, dW2, db2, alpha)\n",
    "        if i % 10 == 0:\n",
    "            print(\"Iteration: \", i)\n",
    "            predictions = get_predictions(A2)\n",
    "            print(get_accuracy(predictions, Y))\n",
    "    return W1, b1, W2, b2"
   ]
  },
  {
   "cell_type": "code",
   "execution_count": 11,
   "metadata": {},
   "outputs": [
    {
     "name": "stdout",
     "output_type": "stream",
     "text": [
      "Iteration:  0\n",
      "[2 4 2 ... 2 2 4] [5 3 5 ... 2 1 7]\n",
      "0.11148780487804878\n",
      "Iteration:  10\n",
      "[6 4 9 ... 2 2 4] [5 3 5 ... 2 1 7]\n",
      "0.23465853658536584\n",
      "Iteration:  20\n",
      "[6 4 9 ... 2 2 4] [5 3 5 ... 2 1 7]\n",
      "0.3261951219512195\n",
      "Iteration:  30\n",
      "[5 4 9 ... 2 2 7] [5 3 5 ... 2 1 7]\n",
      "0.3835609756097561\n",
      "Iteration:  40\n",
      "[5 4 9 ... 2 1 7] [5 3 5 ... 2 1 7]\n",
      "0.4370487804878049\n",
      "Iteration:  50\n",
      "[8 4 9 ... 2 1 7] [5 3 5 ... 2 1 7]\n",
      "0.48185365853658535\n",
      "Iteration:  60\n",
      "[8 4 9 ... 2 1 7] [5 3 5 ... 2 1 7]\n",
      "0.5179756097560976\n",
      "Iteration:  70\n",
      "[8 3 4 ... 2 1 7] [5 3 5 ... 2 1 7]\n",
      "0.5504878048780488\n",
      "Iteration:  80\n",
      "[8 3 4 ... 2 1 7] [5 3 5 ... 2 1 7]\n",
      "0.5772195121951219\n",
      "Iteration:  90\n",
      "[5 3 5 ... 2 1 7] [5 3 5 ... 2 1 7]\n",
      "0.6011463414634146\n",
      "Iteration:  100\n",
      "[5 3 5 ... 2 1 7] [5 3 5 ... 2 1 7]\n",
      "0.6223414634146341\n",
      "Iteration:  110\n",
      "[5 3 5 ... 2 1 7] [5 3 5 ... 2 1 7]\n",
      "0.6425853658536586\n",
      "Iteration:  120\n",
      "[5 3 8 ... 2 1 7] [5 3 5 ... 2 1 7]\n",
      "0.6603658536585366\n",
      "Iteration:  130\n",
      "[5 3 8 ... 2 1 7] [5 3 5 ... 2 1 7]\n",
      "0.6781463414634147\n",
      "Iteration:  140\n",
      "[5 3 8 ... 2 1 7] [5 3 5 ... 2 1 7]\n",
      "0.6928048780487804\n",
      "Iteration:  150\n",
      "[5 3 8 ... 2 1 7] [5 3 5 ... 2 1 7]\n",
      "0.7051951219512195\n",
      "Iteration:  160\n",
      "[5 3 8 ... 2 1 7] [5 3 5 ... 2 1 7]\n",
      "0.7175609756097561\n",
      "Iteration:  170\n",
      "[5 3 8 ... 2 1 7] [5 3 5 ... 2 1 7]\n",
      "0.7285365853658536\n",
      "Iteration:  180\n",
      "[5 3 8 ... 2 1 7] [5 3 5 ... 2 1 7]\n",
      "0.7378048780487805\n",
      "Iteration:  190\n",
      "[5 3 8 ... 2 1 7] [5 3 5 ... 2 1 7]\n",
      "0.7470487804878049\n",
      "Iteration:  200\n",
      "[5 3 8 ... 2 1 7] [5 3 5 ... 2 1 7]\n",
      "0.7539512195121951\n",
      "Iteration:  210\n",
      "[5 3 8 ... 2 1 7] [5 3 5 ... 2 1 7]\n",
      "0.7607317073170732\n",
      "Iteration:  220\n",
      "[5 3 8 ... 2 1 7] [5 3 5 ... 2 1 7]\n",
      "0.7667804878048781\n",
      "Iteration:  230\n",
      "[5 3 8 ... 2 1 7] [5 3 5 ... 2 1 7]\n",
      "0.7729268292682927\n",
      "Iteration:  240\n",
      "[5 3 8 ... 2 1 7] [5 3 5 ... 2 1 7]\n",
      "0.7784634146341464\n",
      "Iteration:  250\n",
      "[5 3 8 ... 2 1 7] [5 3 5 ... 2 1 7]\n",
      "0.783219512195122\n",
      "Iteration:  260\n",
      "[5 3 8 ... 2 1 7] [5 3 5 ... 2 1 7]\n",
      "0.7878048780487805\n",
      "Iteration:  270\n",
      "[5 3 8 ... 2 1 7] [5 3 5 ... 2 1 7]\n",
      "0.7919024390243903\n",
      "Iteration:  280\n",
      "[5 3 8 ... 2 1 7] [5 3 5 ... 2 1 7]\n",
      "0.7952682926829269\n",
      "Iteration:  290\n",
      "[5 3 8 ... 2 1 7] [5 3 5 ... 2 1 7]\n",
      "0.7985609756097561\n",
      "Iteration:  300\n",
      "[5 3 8 ... 2 1 7] [5 3 5 ... 2 1 7]\n",
      "0.8016585365853659\n",
      "Iteration:  310\n",
      "[5 3 8 ... 2 1 7] [5 3 5 ... 2 1 7]\n",
      "0.8043414634146342\n",
      "Iteration:  320\n",
      "[5 3 8 ... 2 1 7] [5 3 5 ... 2 1 7]\n",
      "0.8070487804878049\n",
      "Iteration:  330\n",
      "[5 3 8 ... 2 1 7] [5 3 5 ... 2 1 7]\n",
      "0.8103902439024391\n",
      "Iteration:  340\n",
      "[5 3 8 ... 2 1 7] [5 3 5 ... 2 1 7]\n",
      "0.813\n",
      "Iteration:  350\n",
      "[5 3 8 ... 2 1 7] [5 3 5 ... 2 1 7]\n",
      "0.8156829268292682\n",
      "Iteration:  360\n",
      "[5 3 8 ... 2 1 7] [5 3 5 ... 2 1 7]\n",
      "0.8184146341463414\n",
      "Iteration:  370\n",
      "[5 3 8 ... 2 1 7] [5 3 5 ... 2 1 7]\n",
      "0.8205121951219512\n",
      "Iteration:  380\n",
      "[5 3 5 ... 2 1 7] [5 3 5 ... 2 1 7]\n",
      "0.8229756097560975\n",
      "Iteration:  390\n",
      "[5 3 5 ... 2 1 7] [5 3 5 ... 2 1 7]\n",
      "0.8254390243902439\n",
      "Iteration:  400\n",
      "[5 3 5 ... 2 1 7] [5 3 5 ... 2 1 7]\n",
      "0.8276585365853658\n",
      "Iteration:  410\n",
      "[5 3 5 ... 2 1 7] [5 3 5 ... 2 1 7]\n",
      "0.8292195121951219\n",
      "Iteration:  420\n",
      "[5 3 5 ... 2 1 7] [5 3 5 ... 2 1 7]\n",
      "0.8307073170731707\n",
      "Iteration:  430\n",
      "[5 3 5 ... 2 1 7] [5 3 5 ... 2 1 7]\n",
      "0.8325365853658536\n",
      "Iteration:  440\n",
      "[5 3 5 ... 2 1 7] [5 3 5 ... 2 1 7]\n",
      "0.8340975609756097\n",
      "Iteration:  450\n",
      "[5 3 5 ... 2 1 7] [5 3 5 ... 2 1 7]\n",
      "0.8356341463414634\n",
      "Iteration:  460\n",
      "[5 3 5 ... 2 1 7] [5 3 5 ... 2 1 7]\n",
      "0.8369268292682926\n",
      "Iteration:  470\n",
      "[5 3 5 ... 2 1 7] [5 3 5 ... 2 1 7]\n",
      "0.8380487804878048\n",
      "Iteration:  480\n",
      "[5 3 5 ... 2 1 7] [5 3 5 ... 2 1 7]\n",
      "0.8393658536585366\n",
      "Iteration:  490\n",
      "[5 3 5 ... 2 1 7] [5 3 5 ... 2 1 7]\n",
      "0.8405609756097561\n"
     ]
    }
   ],
   "source": [
    "W1, b1, W2, b2 = gradient_descent(X_train, Y_train, 0.10, 500)"
   ]
  },
  {
   "cell_type": "markdown",
   "metadata": {},
   "source": [
    "~85% accuracy on training set."
   ]
  },
  {
   "cell_type": "code",
   "execution_count": 13,
   "metadata": {},
   "outputs": [],
   "source": [
    "def make_predictions(X, W1, b1, W2, b2):\n",
    "    _, _, _, A2 = forward_prop(W1, b1, W2, b2, X)\n",
    "    predictions = get_predictions(A2)\n",
    "    return predictions\n",
    "\n",
    "def test_prediction(index, W1, b1, W2, b2):\n",
    "    current_image = X_train[:, index, None]\n",
    "    prediction = make_predictions(X_train[:, index, None], W1, b1, W2, b2)\n",
    "    label = Y_train[index]\n",
    "    print(\"Prediction: \", prediction)\n",
    "    print(\"Label: \", label)\n",
    "    \n",
    "    current_image = current_image.reshape((28, 28)) * 255\n",
    "    plt.gray()\n",
    "    plt.imshow(current_image, interpolation='nearest')\n",
    "    plt.show()"
   ]
  },
  {
   "cell_type": "markdown",
   "metadata": {},
   "source": [
    "Let's look at a couple of examples:"
   ]
  },
  {
   "cell_type": "code",
   "execution_count": 14,
   "metadata": {},
   "outputs": [
    {
     "name": "stdout",
     "output_type": "stream",
     "text": [
      "Prediction:  [5]\n",
      "Label:  5\n"
     ]
    },
    {
     "data": {
      "image/png": "[encoded data removed]",
      "text/plain": [
       "<Figure size 432x288 with 1 Axes>"
      ]
     },
     "metadata": {
      "needs_background": "light"
     },
     "output_type": "display_data"
    },
    {
     "name": "stdout",
     "output_type": "stream",
     "text": [
      "Prediction:  [3]\n",
      "Label:  3\n"
     ]
    },
    {
     "data": {
      "image/png": "[encoded data removed]",
      "text/plain": [
       "<Figure size 432x288 with 1 Axes>"
      ]
     },
     "metadata": {
      "needs_background": "light"
     },
     "output_type": "display_data"
    },
    {
     "name": "stdout",
     "output_type": "stream",
     "text": [
      "Prediction:  [5]\n",
      "Label:  5\n"
     ]
    },
    {
     "data": {
      "image/png": "[encoded data removed]",
      "text/plain": [
       "<Figure size 432x288 with 1 Axes>"
      ]
     },
     "metadata": {
      "needs_background": "light"
     },
     "output_type": "display_data"
    },
    {
     "name": "stdout",
     "output_type": "stream",
     "text": [
      "Prediction:  [8]\n",
      "Label:  5\n"
     ]
    },
    {
     "data": {
      "image/png": "[encoded data removed]",
      "text/plain": [
       "<Figure size 432x288 with 1 Axes>"
      ]
     },
     "metadata": {
      "needs_background": "light"
     },
     "output_type": "display_data"
    }
   ],
   "source": [
    "test_prediction(0, W1, b1, W2, b2)\n",
    "test_prediction(1, W1, b1, W2, b2)\n",
    "test_prediction(2, W1, b1, W2, b2)\n",
    "test_prediction(3, W1, b1, W2, b2)"
   ]
  },
  {
   "cell_type": "markdown",
   "metadata": {},
   "source": [
    "Finally, let's find the accuracy on the dev set:"
   ]
  },
  {
   "cell_type": "code",
   "execution_count": null,
   "metadata": {},
   "outputs": [],
   "source": [
    "dev_predictions = make_predictions(X_dev, W1, b1, W2, b2)\n",
    "get_accuracy(dev_predictions, Y_dev)"
   ]
  },
  {
   "cell_type": "markdown",
   "metadata": {},
   "source": [
    "Still 84% accuracy, so our model generalized from the training data pretty well."
   ]
  }
 ],
 "metadata": {
  "kernelspec": {
   "display_name": "Python 3 (ipykernel)",
   "language": "python",
   "name": "python3"
  },
  "language_info": {
   "codemirror_mode": {
    "name": "ipython",
    "version": 3
   },
   "file_extension": ".py",
   "mimetype": "text/x-python",
   "name": "python",
   "nbconvert_exporter": "python",
   "pygments_lexer": "ipython3",
   "version": "3.9.12"
  }
 },
 "nbformat": 4,
 "nbformat_minor": 4
}
